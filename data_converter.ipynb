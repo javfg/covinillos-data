{
 "cells": [
  {
   "cell_type": "code",
   "execution_count": 15,
   "metadata": {},
   "outputs": [],
   "source": [
    "from datetime import datetime\n",
    "import json\n",
    "\n",
    "import pandas as pd\n",
    "\n",
    "pd.set_option('display.max_columns', None)\n",
    "pd.set_option('display.max_rows', None)"
   ]
  },
  {
   "cell_type": "code",
   "execution_count": 17,
   "metadata": {},
   "outputs": [],
   "source": [
    "coord_cols = [\"Lat\", \"Long\"]\n",
    "location_cols = [\"Province/State\", \"Country/Region\"]\n",
    "\n",
    "covid_root_path = \"/home/javilol/learn/d3/covid\"\n",
    "covid_timeseries_path = f\"{covid_root_path}/COVID-19/csse_covid_19_data/csse_covid_19_time_series/\""
   ]
  },
  {
   "cell_type": "code",
   "execution_count": 18,
   "metadata": {},
   "outputs": [],
   "source": [
    "data_spain = pd.read_csv('https://covid19.isciii.es/resources/serie_historica_acumulados.csv', sep=\",\", encoding=\"iso-8859-1\", )"
   ]
  },
  {
   "cell_type": "markdown",
   "metadata": {},
   "source": [
    "### Functions for data fixing"
   ]
  },
  {
   "cell_type": "code",
   "execution_count": 19,
   "metadata": {},
   "outputs": [],
   "source": [
    "def fix_data(df, original_date_format):\n",
    "    # remove coordinates columns\n",
    "    df = df.drop(coord_cols, axis=1)\n",
    "\n",
    "    # get columns with values\n",
    "    data_cols = [x for x in df.columns if x not in location_cols]\n",
    "\n",
    "    # fill zeros and convert to int in data columns\n",
    "    df[df.columns[~df.columns.isin(location_cols)]] = df[df.columns[~df.columns.isin(location_cols)]].fillna(0).astype(int)\n",
    "\n",
    "    # convert dates to ISO6801\n",
    "    column_names = location_cols + [str(datetime.strptime(date, original_date_format).date()) for date in data_cols]\n",
    "    df.columns = column_names\n",
    "\n",
    "    return df"
   ]
  },
  {
   "cell_type": "code",
   "execution_count": 20,
   "metadata": {},
   "outputs": [],
   "source": [
    "def aggregate_countries(df):\n",
    "    return df.groupby(\"Country/Region\").sum()"
   ]
  },
  {
   "cell_type": "code",
   "execution_count": 21,
   "metadata": {},
   "outputs": [],
   "source": [
    "def sort_descending(df, col):\n",
    "    return df.sort_values(by=col, ascending=False)"
   ]
  },
  {
   "cell_type": "markdown",
   "metadata": {},
   "source": [
    "### Generate datasets"
   ]
  },
  {
   "cell_type": "markdown",
   "metadata": {},
   "source": [
    "#### Spanish errata \n",
    "\n",
    "based on:\n",
    "\n",
    "https://www.mscbs.gob.es/profesionales/saludPublica/ccayes/alertasActual/nCov-China/documentos/Actualizacion_75_COVID-19.pdf\n",
    "https://www.mscbs.gob.es/profesionales/saludPublica/ccayes/alertasActual/nCov-China/documentos/Actualizacion_76_COVID-19.pdf\n",
    "https://www.mscbs.gob.es/profesionales/saludPublica/ccayes/alertasActual/nCov-China/documentos/Actualizacion_77_COVID-19.pdf\n",
    "https://www.mscbs.gob.es/profesionales/saludPublica/ccayes/alertasActual/nCov-China/documentos/Actualizacion_78_COVID-19.pdf\n",
    "https://www.mscbs.gob.es/profesionales/saludPublica/ccayes/alertasActual/nCov-China/documentos/Actualizacion_79_COVID-19.pdf\n",
    "https://www.mscbs.gob.es/profesionales/saludPublica/ccayes/alertasActual/nCov-China/documentos/Actualizacion_80_COVID-19.pdf\n",
    "https://www.mscbs.gob.es/profesionales/saludPublica/ccayes/alertasActual/nCov-China/documentos/Actualizacion_81_COVID-19.pdf\n"
   ]
  },
  {
   "cell_type": "code",
   "execution_count": 22,
   "metadata": {},
   "outputs": [],
   "source": [
    "def fix_spanish_data():\n",
    "    confirmed_total.loc['Spain']['2020-03-12'] = 3087\n",
    "    deaths_total.loc['Spain']['2020-03-12'] = 84\n",
    "    \n",
    "    confirmed_total.loc['Spain']['2020-04-15'] = 177633\n",
    "    deaths_total.loc['Spain']['2020-04-15'] = 18579\n",
    "\n",
    "    confirmed_total.loc['Spain']['2020-04-16'] = 182816\n",
    "    deaths_total.loc['Spain']['2020-04-16'] = 19130\n",
    "\n",
    "    confirmed_total.loc['Spain']['2020-04-17'] = 188068\n",
    "    deaths_total.loc['Spain']['2020-04-17'] = 19478\n",
    "    recovered_total.loc['Spain']['2020-04-17'] = 72963\n",
    "\n",
    "    recovered_total.loc['Spain']['2020-04-18'] = 74662\n",
    "\n",
    "    confirmed_total.loc['Spain']['2020-04-19'] = 195944"
   ]
  },
  {
   "cell_type": "code",
   "execution_count": 23,
   "metadata": {
    "tags": [
     "outputPrepend"
    ]
   },
   "outputs": [],
   "source": [
    "confirmed_total = f\"{covid_timeseries_path}time_series_covid19_confirmed_global.csv\"\n",
    "confirmed_total = aggregate_countries(fix_data(pd.read_csv(confirmed_total, sep=\",\"), \"%m/%d/%y\"))\n",
    "confirmed_total = sort_descending(confirmed_total, confirmed_total.columns[-1])\n",
    "\n",
    "country_order = list(confirmed_total.index.values)\n",
    "\n",
    "deaths_total = f\"{covid_timeseries_path}time_series_covid19_deaths_global.csv\"\n",
    "deaths_total = aggregate_countries(fix_data(pd.read_csv(deaths_total, sep=\",\"), \"%m/%d/%y\"))\n",
    "deaths_total = deaths_total.loc[country_order]\n",
    "\n",
    "recovered_total = f\"{covid_timeseries_path}time_series_covid19_recovered_global.csv\"\n",
    "recovered_total = aggregate_countries(fix_data(pd.read_csv(recovered_total, sep=\",\"), \"%m/%d/%y\"))\n",
    "recovered_total = recovered_total.loc[country_order]"
   ]
  },
  {
   "cell_type": "code",
   "execution_count": 38,
   "metadata": {},
   "outputs": [],
   "source": [
    "# print(confirmed_total.loc['Spain']['2020-04-15'])\n",
    "# print(deaths_total.loc['Spain']['2020-04-15'])\n",
    "# print(confirmed_total.loc['Spain']['2020-04-16'])\n",
    "# print(deaths_total.loc['Spain']['2020-04-16'])\n",
    "# print(confirmed_total.loc['Spain']['2020-04-17'])\n",
    "# print(deaths_total.loc['Spain']['2020-04-17'])\n",
    "# print(confirmed_total.loc['Spain']['2020-04-18'])\n",
    "# print(deaths_total.loc['Spain']['2020-04-18'])\n",
    "# print(confirmed_total.loc['Spain']['2020-04-19'])\n",
    "# print(deaths_total.loc['Spain']['2020-04-19'])\n",
    "# print(confirmed_total.loc['Spain']['2020-04-20'])\n",
    "# print(deaths_total.loc['Spain']['2020-04-20'])\n",
    "# print(confirmed_total.loc['Spain']['2020-03-09'])\n",
    "# print(deaths_total.loc['Spain']['2020-03-09'])\n",
    "# print(recovered_total.loc['Spain']['2020-03-09'])\n",
    "# print(confirmed_daily.loc['Spain']['2020-03-09'])\n",
    "# print(deaths_daily.loc['Spain']['2020-03-09'])\n",
    "# print(recovered_daily.loc['Spain']['2020-03-09'])\n",
    "# print(\"\")\n",
    "# print(confirmed_total.loc['Spain']['2020-03-10'])\n",
    "# print(deaths_total.loc['Spain']['2020-03-10'])\n",
    "# print(recovered_total.loc['Spain']['2020-03-10'])\n",
    "# print(confirmed_daily.loc['Spain']['2020-03-10'])\n",
    "# print(deaths_daily.loc['Spain']['2020-03-10'])\n",
    "# print(recovered_daily.loc['Spain']['2020-03-10'])\n",
    "# print(\"\")\n",
    "# print(confirmed_total.loc['Spain']['2020-03-11'])\n",
    "# print(deaths_total.loc['Spain']['2020-03-11'])\n",
    "# print(recovered_total.loc['Spain']['2020-03-11'])\n",
    "# print(confirmed_daily.loc['Spain']['2020-03-11'])\n",
    "# print(deaths_daily.loc['Spain']['2020-03-11'])\n",
    "# print(recovered_daily.loc['Spain']['2020-03-11'])\n",
    "# print(\"\")\n",
    "# print(confirmed_total.loc['Spain']['2020-03-12'])\n",
    "# print(deaths_total.loc['Spain']['2020-03-12'])\n",
    "# print(recovered_total.loc['Spain']['2020-03-12'])\n",
    "# print(confirmed_daily.loc['Spain']['2020-03-12'])\n",
    "# print(deaths_daily.loc['Spain']['2020-03-12'])\n",
    "# print(recovered_daily.loc['Spain']['2020-03-12'])\n",
    "# print(\"\")\n",
    "# print(confirmed_total.loc['Spain']['2020-03-13'])\n",
    "# print(deaths_total.loc['Spain']['2020-03-13'])\n",
    "# print(recovered_total.loc['Spain']['2020-03-13'])\n",
    "# print(confirmed_daily.loc['Spain']['2020-03-13'])\n",
    "# print(deaths_daily.loc['Spain']['2020-03-13'])\n",
    "# print(recovered_daily.loc['Spain']['2020-03-13'])\n",
    "# print(\"\")\n",
    "# print(confirmed_total.loc['Spain']['2020-03-14'])\n",
    "# print(deaths_total.loc['Spain']['2020-03-14'])\n",
    "# print(recovered_total.loc['Spain']['2020-03-14'])\n",
    "# print(confirmed_daily.loc['Spain']['2020-03-14'])\n",
    "# print(deaths_daily.loc['Spain']['2020-03-14'])\n",
    "# print(recovered_daily.loc['Spain']['2020-03-14'])"
   ]
  },
  {
   "cell_type": "code",
   "execution_count": 10,
   "metadata": {},
   "outputs": [],
   "source": [
    "fix_spanish_data()"
   ]
  },
  {
   "cell_type": "code",
   "execution_count": 11,
   "metadata": {},
   "outputs": [],
   "source": [
    "confirmed_daily = confirmed_total.diff(axis=1).fillna(confirmed_total).clip(lower=0).astype(int)\n",
    "deaths_daily = deaths_total.diff(axis=1).fillna(deaths_total).clip(lower=0).astype(int)\n",
    "recovered_daily = recovered_total.diff(axis=1).fillna(recovered_total).clip(lower=0).astype(int)"
   ]
  },
  {
   "cell_type": "markdown",
   "metadata": {},
   "source": [
    "### Save CSVs"
   ]
  },
  {
   "cell_type": "code",
   "execution_count": 12,
   "metadata": {},
   "outputs": [],
   "source": [
    "# confirmed_total.to_csv(\"./covinillos/data/confirmed_total.csv\", header=True, sep=\",\")\n",
    "# confirmed_daily.to_csv(\"./covinillos/data/confirmed_daily.csv\", header=True, sep=\",\")\n",
    "# deaths_total.to_csv(\"./covinillos/data/deaths_total.csv\", header=True, sep=\",\")\n",
    "# deaths_daily.to_csv(\"./covinillos/data/deaths_daily.csv\", header=True, sep=\",\")\n",
    "# recovered_total.to_csv(\"./covinillos/data/recovered_total.csv\", header=True, sep=\",\")\n",
    "# recovered_daily.to_csv(\"./covinillos/data/recovered_daily.csv\", header=True, sep=\",\")"
   ]
  },
  {
   "cell_type": "markdown",
   "metadata": {},
   "source": [
    "### Load events"
   ]
  },
  {
   "cell_type": "code",
   "execution_count": 13,
   "metadata": {},
   "outputs": [],
   "source": [
    "events = pd.read_csv(f\"{covid_root_path}/covinillos-data/events.csv\", skip_blank_lines=True)"
   ]
  },
  {
   "cell_type": "markdown",
   "metadata": {},
   "source": [
    "### Create JSON"
   ]
  },
  {
   "cell_type": "code",
   "execution_count": 14,
   "metadata": {
    "tags": [
     "outputPrepend"
    ]
   },
   "outputs": [],
   "source": [
    "dataset = {}\n",
    "\n",
    "for country in country_order:\n",
    "    dataset[country] = []\n",
    "\n",
    "    for date in confirmed_total.columns:\n",
    "        dataset[country].append({\n",
    "            'date': date,\n",
    "            'confirmed_total': int(confirmed_total.loc[country, date]),\n",
    "            'deaths_total': int(deaths_total.loc[country, date]),\n",
    "            'recovered_total': int(recovered_total.loc[country, date]),\n",
    "            'confirmed_daily': int(confirmed_daily.loc[country, date]),\n",
    "            'deaths_daily': int(deaths_daily.loc[country, date]),\n",
    "            'recovered_daily': int(recovered_daily.loc[country, date]),\n",
    "            'events': events.loc[(events.country == country) & (events.date == date)][['description', 'group', 'reference']].to_dict(orient=\"records\")\n",
    "        })"
   ]
  },
  {
   "cell_type": "markdown",
   "metadata": {},
   "source": [
    "\n",
    "### Reduce size"
   ]
  },
  {
   "cell_type": "code",
   "execution_count": 16,
   "metadata": {},
   "outputs": [],
   "source": [
    "smallDataSet = {}\n",
    "\n",
    "for (country, data) in dataset.items():\n",
    "    smallDataSet[country] = []\n",
    "    \n",
    "    for (index, day) in enumerate(data):\n",
    "        smallDataSet[country].append({\n",
    "            'date': day['date'],\n",
    "            'data': [val for (key, val) in day.items() if key not in ['date', 'events']]\n",
    "        })\n",
    "\n",
    "        if len(day['events']):\n",
    "            smallDataSet[country][index]['events'] = day['events']   "
   ]
  },
  {
   "cell_type": "code",
   "execution_count": null,
   "metadata": {},
   "outputs": [],
   "source": [
    "with open(f\"{covid_root_path}/covinillos/data/dataset.json\", \"w\") as data_file:\n",
    "    json.dump(dataset, data_file)"
   ]
  },
  {
   "cell_type": "code",
   "execution_count": null,
   "metadata": {},
   "outputs": [],
   "source": [
    "events_dict = events.to_dict(orient=\"records\")"
   ]
  },
  {
   "cell_type": "code",
   "execution_count": null,
   "metadata": {},
   "outputs": [],
   "source": [
    "with open(f\"{covid_root_path}/covinillos/data/events.json\", \"w\") as events_file:\n",
    "    json.dump(events_dict, events_file)"
   ]
  },
  {
   "cell_type": "markdown",
   "metadata": {},
   "source": [
    "### Data for Spain"
   ]
  },
  {
   "cell_type": "markdown",
   "metadata": {},
   "source": [
    "##### Data from Spain is not usable while Cataluña does not report correctly"
   ]
  },
  {
   "cell_type": "markdown",
   "metadata": {},
   "source": []
  }
 ],
 "metadata": {
  "kernelspec": {
   "display_name": "Python 3",
   "language": "python",
   "name": "python3"
  },
  "language_info": {
   "codemirror_mode": {
    "name": "ipython",
    "version": 3
   },
   "file_extension": ".py",
   "mimetype": "text/x-python",
   "name": "python",
   "nbconvert_exporter": "python",
   "pygments_lexer": "ipython3",
   "version": "3.8.0-final"
  }
 },
 "nbformat": 4,
 "nbformat_minor": 4
}