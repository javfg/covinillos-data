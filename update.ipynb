{
 "cells": [
  {
   "cell_type": "markdown",
   "metadata": {},
   "source": [
    "## Get data"
   ]
  },
  {
   "cell_type": "code",
   "execution_count": 1,
   "metadata": {},
   "outputs": [],
   "source": [
    "from math import isnan\n",
    "from datetime import datetime\n",
    "import json\n",
    "\n",
    "import pandas as pd\n",
    "\n",
    "pd.set_option('display.max_columns', None)\n",
    "pd.set_option('display.max_rows', 10)\n",
    "\n",
    "data_url = \"https://raw.githubusercontent.com/owid/covid-19-data/master/public/data/owid-covid-data.csv\"\n",
    "events_url = \"https://raw.githubusercontent.com/javfg/covinillos-data/master/events.csv\""
   ]
  },
  {
   "cell_type": "code",
   "execution_count": 2,
   "metadata": {},
   "outputs": [],
   "source": [
    "data = pd.read_csv(data_url).fillna(0)\n",
    "events = pd.read_csv(events_url)"
   ]
  },
  {
   "cell_type": "markdown",
   "metadata": {},
   "source": [
    "## Prepare data\n",
    "\n",
    "### Fix events"
   ]
  },
  {
   "cell_type": "code",
   "execution_count": 3,
   "metadata": {},
   "outputs": [],
   "source": [
    "events['events'] = events.apply(lambda row: {\n",
    "    'description': row['description'],\n",
    "    'group': row['group'],\n",
    "    'reference': row['reference'],\n",
    "}, axis=1)\n",
    "\n",
    "events_merged = events.drop(['description', 'group', 'reference'], axis=1)"
   ]
  },
  {
   "source": [
    "### Fix columns"
   ],
   "cell_type": "markdown",
   "metadata": {}
  },
  {
   "cell_type": "code",
   "execution_count": 4,
   "metadata": {},
   "outputs": [],
   "source": [
    "data_columns_to_pick = ['total_cases', 'total_deaths', 'new_cases', 'new_deaths', 'total_cases_per_million', 'new_cases_per_million', 'total_deaths_per_million', 'new_deaths_per_million']\n",
    "\n",
    "for column in data_columns_to_pick:\n",
    "    data[column] = data[column].astype(int)\n",
    "\n",
    "data_new = pd.DataFrame({\n",
    "    'country': data['location'],\n",
    "    'date': data['date'],\n",
    "    'data': data[data_columns_to_pick].values.tolist()\n",
    "})"
   ]
  },
  {
   "source": [
    "### Merge data with events"
   ],
   "cell_type": "markdown",
   "metadata": {}
  },
  {
   "cell_type": "code",
   "execution_count": 5,
   "metadata": {},
   "outputs": [],
   "source": [
    "merged_df = data_new.merge(events_merged.groupby(['country', 'date'])['events'].apply(list), how='outer', left_on=['country', 'date'], right_on=['country', 'date'])\n"
   ]
  },
  {
   "source": [
    "### Convert to json"
   ],
   "cell_type": "markdown",
   "metadata": {}
  },
  {
   "cell_type": "code",
   "execution_count": 45,
   "metadata": {},
   "outputs": [],
   "source": [
    "data_dict = merged_df.groupby('country').apply(lambda x: x.drop('country', axis=1).to_dict(orient='records')).to_dict()"
   ]
  },
  {
   "source": [
    "#### Delete nan event fields"
   ],
   "cell_type": "markdown",
   "metadata": {}
  },
  {
   "cell_type": "code",
   "execution_count": 53,
   "metadata": {},
   "outputs": [],
   "source": [
    "from math import isnan\n",
    "\n",
    "for (country, country_data) in data_dict.items():\n",
    "    for day in country_data:\n",
    "        try:\n",
    "            if isnan(day['events']):\n",
    "                del(day['events'])\n",
    "        except:\n",
    "            pass\n"
   ]
  },
  {
   "cell_type": "markdown",
   "metadata": {},
   "source": [
    "### Save data"
   ]
  },
  {
   "cell_type": "code",
   "execution_count": 32,
   "metadata": {},
   "outputs": [],
   "source": [
    "with open(f\"./data/dataset.json\", \"w\") as data_file:\n",
    "    json.dump(data_dict, data_file)"
   ]
  },
  {
   "cell_type": "code",
   "execution_count": null,
   "metadata": {},
   "outputs": [],
   "source": [
    "with open(f\"./data/events.json\", \"w\") as events_file:\n",
    "    json.dump(events.to_dict(orient=\"records\"), events_file)"
   ]
  }
 ],
 "metadata": {
  "kernelspec": {
   "display_name": "Python 3",
   "language": "python",
   "name": "python3"
  },
  "language_info": {
   "codemirror_mode": {
    "name": "ipython",
    "version": 3
   },
   "file_extension": ".py",
   "mimetype": "text/x-python",
   "name": "python",
   "nbconvert_exporter": "python",
   "pygments_lexer": "ipython3",
   "version": "3.8.5-final"
  }
 },
 "nbformat": 4,
 "nbformat_minor": 4
}